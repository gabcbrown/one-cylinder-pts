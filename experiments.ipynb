{
 "cells": [
  {
   "cell_type": "code",
   "execution_count": 226,
   "id": "d1424c95",
   "metadata": {},
   "outputs": [
    {
     "name": "stdout",
     "output_type": "stream",
     "text": [
      "Total number of degree 5 PTS: 1647384\n",
      "Total number of degree 5 PTS with a horizontal cyl: 345600\n"
     ]
    }
   ],
   "source": [
    "# A 1-cylinder PTS corresponds to a tuple of four elements (a,b,c,d) in Sym(n)\n",
    "# such that abcd = 1. Our goal is to look for non-cyclic PTS, i.e. tuples such \n",
    "# that <a,b,c,d> is a non-cyclic subgroup of Sym(n).\n",
    "from sage.all import SymmetricGroup\n",
    "# a constellation is a tuple of permutations whose product is the identity. \n",
    "# the length of a constellation is the number of elements in the tuple,\n",
    "# and the degree is the n of the symmetric group the permutations come from.\n",
    "# this library by default only returns connected constellations, i.e. \n",
    "# constellations whose permutations have a connected orbit when acting on \n",
    "# {1,...,n} in order to be 1-cyl, a surface must be represented by a connected \n",
    "# constellation, so this is ok.\n",
    "from sage.combinat import constellation\n",
    "\n",
    "n = 5\n",
    "Sn = SymmetricGroup(n)\n",
    "all_pts = Constellations(4,n)\n",
    "# tuple.g(i) has type sage.groups.perm_gps.permgroup_element.SymmetricGroupElement'\n",
    "horizontal_one_cyl_set = set()\n",
    "for tuple in all_pts:\n",
    "    if (tuple.g(0)*tuple.g(1)).cycle_type() == [n]:\n",
    "        horizontal_one_cyl_set.add(tuple)\n",
    "print(f'Total number of degree {n} PTS: {len(all_pts)}')\n",
    "print(f'Total number of degree {n} PTS with a horizontal cyl: {len(horizontal_one_cyl_set)}')"
   ]
  },
  {
   "cell_type": "code",
   "execution_count": 238,
   "id": "d47521ed",
   "metadata": {},
   "outputs": [],
   "source": [
    "def check_horizontal_direction(tuple,n):\n",
    "    # print(f'Checking if {tuple.g(0)}*{tuple.g(1)}={tuple.g(0)*tuple.g(1)} is an n-cycle')\n",
    "    if (tuple.g(0)*tuple.g(1)).cycle_type() == [n]:\n",
    "        return True \n",
    "    else:\n",
    "        return False\n",
    "    \n",
    "def check_one_cyl_surface(tuple,n):\n",
    "    G = tuple.braid_group_orbit()\n",
    "    for t in G.vertices(): # t not nec = tuple, but will be iso as consts \n",
    "    # can actually get the original perm here if we want, using t.is_isomorphic(tuple) (returns r) and then conjugating t.relabel(r) = tuple\n",
    "        if not check_horizontal_direction(t,n):\n",
    "            return False\n",
    "    return True\n",
    "\n",
    "def check_for_identity(tuple,n):\n",
    "    for i in range(0,4):\n",
    "        if tuple.g(i).cycle_type() == ([1]*n):\n",
    "            return True \n",
    "    return False\n",
    "\n",
    "\n",
    "def display_info(tuple,n):\n",
    "    print(f'Information about {tuple}\\n')\n",
    "    if check_one_cyl_surface(tuple,n):\n",
    "        print(f'one-cylinder: yes\\n')\n",
    "    else:\n",
    "        print(f'one-cylinder: no\\n')\n",
    "    \n",
    "    print(f'Tuple profile: {tuple.profile()}\\n')\n",
    "\n",
    "    print(f'B4 orbit:')\n",
    "    for t in tuple.braid_group_orbit().vertices():\n",
    "        print(f'{t}')\n",
    "        print(f'a\\'b\\' = {t.g(0)*t.g(1)}')"
   ]
  },
  {
   "cell_type": "code",
   "execution_count": 230,
   "id": "fe6cf9c1",
   "metadata": {},
   "outputs": [
    {
     "name": "stdout",
     "output_type": "stream",
     "text": [
      "69120\n",
      "276480\n",
      "345600\n"
     ]
    }
   ],
   "source": [
    "test_set = horizontal_one_cyl_set.copy()\n",
    "count = 0\n",
    "interesting = set() # orbit rep of one cylinder surfaces, i.e. a'b' is an n-cycle\n",
    "skipped = 0\n",
    "\n",
    "for tuple in horizontal_one_cyl_set:\n",
    "    if check_one_cyl_surface(tuple,n):\n",
    "        interesting.add(tuple)\n",
    "    else:\n",
    "        skipped += 1\n",
    "    # try:\n",
    "    #     test_set.remove(tuple)\n",
    "    # except:\n",
    "    #     skipped +=1 \n",
    "    #     continue\n",
    "    # G = tuple.braid_group_orbit()\n",
    "    # iso_class_already_found = False\n",
    "    # for t in G.vertices(): # this is working with isomorphism classes \n",
    "    #     try:\n",
    "    #         test_set.remove(t)\n",
    "    #     except: # means we've already removed the iso class from the set\n",
    "    #         skipped+=1\n",
    "    #         iso_class_already_found = True\n",
    "    # if not iso_class_already_found:\n",
    "    #     for t in G.vertices():\n",
    "    #         if not check_horizontal_direction(t,n):\n",
    "    #             break\n",
    "    #     interesting.add(G.vertices()[0])\n",
    "        \n",
    "    \n",
    "print(len(interesting))\n",
    "print(skipped) # suspicious that this is 0, maybe has to do with iso?\n",
    "print(len(interesting)+skipped)"
   ]
  },
  {
   "cell_type": "code",
   "execution_count": 231,
   "id": "3a4e2499",
   "metadata": {},
   "outputs": [
    {
     "name": "stdout",
     "output_type": "stream",
     "text": [
      "Total number of degree 5 one-cylinder PTS: 69120\n"
     ]
    }
   ],
   "source": [
    "\n",
    "print(f'Total number of degree {n} one-cylinder PTS: {len(interesting)}')"
   ]
  },
  {
   "cell_type": "code",
   "execution_count": 232,
   "id": "4025c12d",
   "metadata": {},
   "outputs": [
    {
     "name": "stdout",
     "output_type": "stream",
     "text": [
      "Number of degree 5 one-cylinder PTS that are: \n",
      " cyclic: 480\n",
      " non-cyclic with identity perm: 1920\n",
      " non-cyclic without identity perm: 66720\n",
      "\n"
     ]
    }
   ],
   "source": [
    "cyclic_one_cyl = set()\n",
    "non_cyclic_one_cyl = set()\n",
    "for tuple in interesting:\n",
    "    G = Sn.subgroup([tuple.g(0), tuple.g(1), tuple.g(2), tuple.g(3)])\n",
    "    cyclic_one_cyl.add(tuple) if G.is_cyclic() else non_cyclic_one_cyl.add(tuple)\n",
    "\n",
    "print(f'Number of degree {n} one-cylinder PTS that are: \\n cyclic: {len(cyclic_one_cyl)}')\n",
    "\n",
    "non_cyclic_one_cylinder_non_identity = set()\n",
    "identity = set()\n",
    "for tuple in non_cyclic_one_cyl:\n",
    "    if check_for_identity(tuple,n):\n",
    "        identity.add(tuple) \n",
    "    else:\n",
    "        non_cyclic_one_cylinder_non_identity.add(tuple)\n",
    "        \n",
    "print(f' non-cyclic with identity perm: {len(identity)}')\n",
    "print(f' non-cyclic without identity perm: {len(non_cyclic_one_cylinder_non_identity)}\\n')\n"
   ]
  },
  {
   "cell_type": "code",
   "execution_count": 236,
   "id": "534fca5e",
   "metadata": {},
   "outputs": [
    {
     "name": "stdout",
     "output_type": "stream",
     "text": [
      "Number of cycle types: 136\n",
      "Number of cycle types up to permutation: 26\n",
      "([2, 2, 1], [2, 2, 1], [5], [2, 2, 1])\n",
      "([4, 1], [2, 1, 1, 1], [2, 1, 1, 1], [4, 1])\n",
      "([3, 2], [3, 2], [4, 1], [4, 1])\n",
      "([4, 1], [2, 1, 1, 1], [4, 1], [4, 1])\n",
      "([3, 1, 1], [3, 1, 1], [5], [5])\n",
      "([5], [5], [5], [3, 1, 1])\n",
      "([2, 2, 1], [3, 1, 1], [2, 2, 1], [5])\n",
      "([4, 1], [2, 1, 1, 1], [3, 2], [3, 2])\n",
      "([5], [5], [5], [2, 2, 1])\n",
      "([4, 1], [4, 1], [4, 1], [3, 2])\n",
      "([3, 2], [4, 1], [4, 1], [2, 1, 1, 1])\n",
      "([3, 1, 1], [3, 1, 1], [5], [3, 1, 1])\n",
      "([2, 2, 1], [3, 1, 1], [3, 1, 1], [3, 1, 1])\n",
      "([2, 2, 1], [5], [2, 2, 1], [5])\n",
      "([5], [3, 1, 1], [2, 2, 1], [5])\n",
      "([3, 1, 1], [2, 2, 1], [3, 1, 1], [2, 2, 1])\n",
      "([4, 1], [2, 1, 1, 1], [2, 1, 1, 1], [3, 2])\n",
      "([2, 2, 1], [2, 2, 1], [2, 2, 1], [2, 2, 1])\n",
      "([3, 2], [4, 1], [3, 2], [3, 2])\n",
      "([2, 2, 1], [2, 2, 1], [3, 1, 1], [2, 2, 1])\n",
      "([4, 1], [4, 1], [4, 1], [4, 1])\n",
      "([3, 1, 1], [3, 1, 1], [3, 1, 1], [3, 1, 1])\n",
      "([3, 1, 1], [2, 2, 1], [5], [3, 1, 1])\n",
      "([5], [5], [5], [5])\n",
      "([3, 2], [2, 1, 1, 1], [3, 2], [3, 2])\n",
      "([2, 1, 1, 1], [3, 2], [3, 2], [2, 1, 1, 1])\n"
     ]
    }
   ],
   "source": [
    "cycle_types_set = set()\n",
    "for tuple in non_cyclic_one_cylinder_non_identity:\n",
    "    # for perm in SymmetricGroup(4):\n",
    "    #     if perm.action(list(tuple)) in cycle_types_set:\n",
    "    #         print('foo')\n",
    "        cycle_types_set.add(tuple.profile())\n",
    "\n",
    "print(f'Number of cycle types: {len(cycle_types_set)}')\n",
    "\n",
    "dedup_cycle_types_set = set()\n",
    "for t in cycle_types_set:\n",
    "    duplicate = False\n",
    "    for perm in SymmetricGroup(4):\n",
    "        permuted = (t[perm(1)-1], t[perm(2)-1], t[perm(3)-1], t[perm(4)-1])\n",
    "        if permuted in dedup_cycle_types_set:\n",
    "            duplicate = True\n",
    "        \n",
    "    if not duplicate:\n",
    "         dedup_cycle_types_set.add(t)\n",
    "print(f'Number of cycle types up to permutation: {len(dedup_cycle_types_set)}') # note: using iso type above produces same list\n",
    "for t in dedup_cycle_types_set:\n",
    "     print(t)\n",
    "    "
   ]
  },
  {
   "cell_type": "code",
   "execution_count": 239,
   "id": "273e17e4",
   "metadata": {},
   "outputs": [
    {
     "name": "stdout",
     "output_type": "stream",
     "text": [
      "Information about Constellation of length 4 and degree 5\n",
      "g0 (1,4,3,2)(5)\n",
      "g1 (1)(2)(3,5)(4)\n",
      "g2 (1,3,5,2)(4)\n",
      "g3 (1,3,2,4)(5)\n",
      "\n",
      "one-cylinder: yes\n",
      "\n",
      "Tuple profile: ([4, 1], [2, 1, 1, 1], [4, 1], [4, 1])\n",
      "\n",
      "B4 orbit:\n",
      "Constellation of length 4 and degree 5\n",
      "g0 (1)(2,3,4,5)\n",
      "g1 (1,2)(3)(4)(5)\n",
      "g2 (1,3,4,2)(5)\n",
      "g3 (1)(2,3,5,4)\n",
      "a'b' = (1,2,3,4,5)\n",
      "Constellation of length 4 and degree 5\n",
      "g0 (1)(2)(3)(4,5)\n",
      "g1 (1,2,3,4)(5)\n",
      "g2 (1,2,5,4)(3)\n",
      "g3 (1,3,2,5)(4)\n",
      "a'b' = (1,2,3,4,5)\n",
      "Constellation of length 4 and degree 5\n",
      "g0 (1)(2,3,4,5)\n",
      "g1 (1,2,3,5)(4)\n",
      "g2 (1,2)(3)(4)(5)\n",
      "g3 (1)(2,4,3,5)\n",
      "a'b' = (1,2,5,3,4)\n",
      "Constellation of length 4 and degree 5\n",
      "g0 (1)(2,3,4,5)\n",
      "g1 (1,2)(3)(4)(5)\n",
      "g2 (1)(2,3,5,4)\n",
      "g3 (1,5,2,3)(4)\n",
      "a'b' = (1,2,3,4,5)\n",
      "Constellation of length 4 and degree 5\n",
      "g0 (1)(2,3,4,5)\n",
      "g1 (1,2)(3)(4)(5)\n",
      "g2 (1,4,5,2)(3)\n",
      "g3 (1)(2,4,5,3)\n",
      "a'b' = (1,2,3,4,5)\n"
     ]
    }
   ],
   "source": [
    "for tuple in non_cyclic_one_cylinder_non_identity:\n",
    "    display_info(tuple,n)\n",
    "    break"
   ]
  }
 ],
 "metadata": {
  "kernelspec": {
   "display_name": "SageMath 10.2",
   "language": "sage",
   "name": "SageMath-10.2"
  },
  "language_info": {
   "codemirror_mode": {
    "name": "ipython",
    "version": 3
   },
   "file_extension": ".py",
   "mimetype": "text/x-python",
   "name": "python",
   "nbconvert_exporter": "python",
   "pygments_lexer": "ipython3",
   "version": "3.11.1"
  }
 },
 "nbformat": 4,
 "nbformat_minor": 5
}
