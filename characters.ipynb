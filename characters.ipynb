{
 "cells": [
  {
   "cell_type": "code",
   "execution_count": 1,
   "id": "a5fefa87",
   "metadata": {},
   "outputs": [],
   "source": [
    "class PTS:\n",
    "    # n is an integer > 1, constellation is an instance of the Constellation \n",
    "    # class on Sym(n)\n",
    "    def __init__(self, n, constellation):\n",
    "        self.n = n\n",
    "        self.constellation = constellation\n",
    "        self.orbit = None\n",
    "\n",
    "    def __eq__(self, other):\n",
    "        return (self.constellation == other.constellation)\n",
    "    \n",
    "    def __neq__(self, other):\n",
    "        return (self.constellation != other.constellation)\n",
    "\n",
    "    def __hash__(self):\n",
    "        return self.constellation.__hash__()\n",
    "\n",
    "    def g(self,i):\n",
    "        return self.constellation.g(i)\n",
    "    \n",
    "    def braid_group_orbit(self):\n",
    "        orbit = set()\n",
    "        waiting = [self]\n",
    "\n",
    "        while waiting:\n",
    "            \n",
    "            c = waiting.pop()\n",
    "            orbit.add(c)\n",
    "            for i in range(3): \n",
    "                cc = c.braid(i) \n",
    "                if cc not in orbit:\n",
    "                    waiting.append(cc)\n",
    "        return orbit\n",
    "    \n",
    "    # Will return false as soon as possible, sets orbit as state\n",
    "    def braid_group_orbit_and_one_cyl_check(self):\n",
    "        orbit = set()\n",
    "        waiting = [self]\n",
    "\n",
    "        while waiting:\n",
    "            c = waiting.pop()\n",
    "            orbit.add(c)\n",
    "            for i in range(3):\n",
    "                cc = c.braid(i) \n",
    "                if cc not in orbit:\n",
    "                    if cc.check_horizontal_direction():\n",
    "                        waiting.append(cc)\n",
    "                    else:\n",
    "                        return False\n",
    "        \n",
    "        self.orbit = orbit\n",
    "        return True\n",
    "    \n",
    "    def iso_class_braid_group_orbit(self):\n",
    "        orbit = []\n",
    "        for t in self.constellation.braid_group_orbit().vertices():\n",
    "            orbit.append(PTS(self.n, t))\n",
    "        \n",
    "        return orbit\n",
    "    \n",
    "    def braid(self, i):\n",
    "        return PTS(self.n, self.constellation.braid_group_action(i))\n",
    "\n",
    "    def is_cyclic(self):\n",
    "        G = SymmetricGroup(self.n).subgroup([self.g(0), self.g(1), self.g(2), self.g(3)])\n",
    "        return G.is_cyclic()\n",
    "    \n",
    "    def is_normal(self):\n",
    "        G = SymmetricGroup(self.n).subgroup([self.g(0), self.g(1), self.g(2), self.g(3)])\n",
    "        return G.is_normal() \n",
    "    \n",
    "    # check if there is one cylinder in the horizontal direction\n",
    "    def check_horizontal_direction(self):\n",
    "        if (self.g(0)*self.g(1)).cycle_type() == [self.n]:\n",
    "            return True \n",
    "        else:\n",
    "            return False\n",
    "    \n",
    "    def is_one_cyl_surface(self):\n",
    "        if self.orbit == None:\n",
    "            self.orbit = self.braid_group_orbit()\n",
    "\n",
    "        for t in self.orbit: # t not nec = pts, but will be isom. constellations\n",
    "            if not PTS(self.n, t).check_horizontal_direction():\n",
    "                return False\n",
    "        return True\n",
    "    \n",
    "    def contains_identity(self):\n",
    "        for i in range(0,4):\n",
    "            if self.g(i).cycle_type() == ([1]*self.n):\n",
    "                return True \n",
    "        return False\n",
    "\n",
    "    def __str__(self):\n",
    "        return f' ({self.g(0)},  {self.g(1)},  {self.g(2)},  {self.g(3)})'\n",
    "\n",
    "    def verbose_print(self):\n",
    "        print('PTS defined by:')\n",
    "        print(f' a: {self.g(0)}')\n",
    "        print(f' b: {self.g(1)}')\n",
    "        print(f' c: {self.g(2)}')\n",
    "        print(f' d: {self.g(3)}\\n')\n",
    "    \n",
    "        print(f'cycle type: {self.constellation.profile()}')\n",
    "        print(f'is cyclic: {self.is_cyclic()}')\n",
    "        print(f'is normal: {self.is_normal()}')\n",
    "        print(f'is 1-cylinder: {self.is_one_cyl_surface()}')\n",
    "        print(f'Braid group orbit:')\n",
    "        if self.orbit == None:\n",
    "            self.orbit = self.braid_group_orbit()\n",
    "        for t in self.orbit:\n",
    "            print(t)\n",
    "        print(f'\\n')\n"
   ]
  },
  {
   "cell_type": "code",
   "execution_count": 2,
   "id": "38b7f19d",
   "metadata": {},
   "outputs": [
    {
     "name": "stdout",
     "output_type": "stream",
     "text": [
      "[Conjugacy class of cycle type [1, 1, 1, 1, 1, 1, 1] in Symmetric group of order 7! as a permutation group, Conjugacy class of cycle type [2, 1, 1, 1, 1, 1] in Symmetric group of order 7! as a permutation group, Conjugacy class of cycle type [2, 2, 1, 1, 1] in Symmetric group of order 7! as a permutation group, Conjugacy class of cycle type [2, 2, 2, 1] in Symmetric group of order 7! as a permutation group, Conjugacy class of cycle type [3, 1, 1, 1, 1] in Symmetric group of order 7! as a permutation group, Conjugacy class of cycle type [3, 2, 1, 1] in Symmetric group of order 7! as a permutation group, Conjugacy class of cycle type [3, 2, 2] in Symmetric group of order 7! as a permutation group, Conjugacy class of cycle type [3, 3, 1] in Symmetric group of order 7! as a permutation group, Conjugacy class of cycle type [4, 1, 1, 1] in Symmetric group of order 7! as a permutation group, Conjugacy class of cycle type [4, 2, 1] in Symmetric group of order 7! as a permutation group, Conjugacy class of cycle type [4, 3] in Symmetric group of order 7! as a permutation group, Conjugacy class of cycle type [5, 1, 1] in Symmetric group of order 7! as a permutation group, Conjugacy class of cycle type [5, 2] in Symmetric group of order 7! as a permutation group, Conjugacy class of cycle type [6, 1] in Symmetric group of order 7! as a permutation group, Conjugacy class of cycle type [7] in Symmetric group of order 7! as a permutation group]\n",
      "[ 1 -1  1 -1  1 -1  1  1 -1  1 -1  1 -1 -1  1]\n",
      "[ 6 -4  2  0  3 -1 -1  0 -2  0  1  1  1  0 -1]\n",
      "[14 -6  2 -2  2  0  2 -1  0  0  0 -1 -1  1  0]\n",
      "[14 -4  2  0 -1 -1 -1  2  2  0 -1 -1  1  0  0]\n",
      "[15 -5 -1  3  3  1 -1  0 -1 -1 -1  0  0  0  1]\n",
      "[35 -5 -1 -1 -1  1 -1 -1  1  1  1  0  0 -1  0]\n",
      "[21 -1  1  3 -3 -1  1  0  1 -1  1  1 -1  0  0]\n",
      "[21  1  1 -3 -3  1  1  0 -1 -1 -1  1  1  0  0]\n",
      "[20  0 -4  0  2  0  2  2  0  0  0  0  0  0 -1]\n",
      "[35  5 -1  1 -1 -1 -1 -1 -1  1 -1  0  0  1  0]\n",
      "[14  4  2  0 -1  1 -1  2 -2  0  1 -1 -1  0  0]\n",
      "[15  5 -1 -3  3 -1 -1  0  1 -1  1  0  0  0  1]\n",
      "[14  6  2  2  2  0  2 -1  0  0  0 -1  1 -1  0]\n",
      "[ 6  4  2  0  3  1 -1  0  2  0 -1  1 -1  0 -1]\n",
      "[ 1  1  1  1  1  1  1  1  1  1  1  1  1  1  1]\n"
     ]
    }
   ],
   "source": [
    "from sage.all import SymmetricGroup\n",
    "\n",
    "n = 7\n",
    "Sn = SymmetricGroup(n)\n",
    "characters = Sn.character_table()\n",
    "conjugacy_classes = Sn.conjugacy_classes()\n",
    "print(conjugacy_classes)\n",
    "print(characters)"
   ]
  },
  {
   "cell_type": "code",
   "execution_count": 3,
   "id": "603b211e",
   "metadata": {},
   "outputs": [],
   "source": [
    "def frob(n, class_indices):\n",
    "    Sn = SymmetricGroup(n)\n",
    "    characters = Sn.character_table()\n",
    "    k = len(Sn.conjugacy_classes())\n",
    "\n",
    "    sum = 0\n",
    "    for i in range(0, k):\n",
    "        chi = characters[i]\n",
    "        product = chi[0]^2\n",
    "        for i in class_indices:\n",
    "            product *= (chi[i]/chi[0])\n",
    "        sum += product\n",
    "\n",
    "    return sum\n"
   ]
  },
  {
   "cell_type": "code",
   "execution_count": 4,
   "id": "7735a9db",
   "metadata": {},
   "outputs": [
    {
     "name": "stdout",
     "output_type": "stream",
     "text": [
      "50\n"
     ]
    }
   ],
   "source": [
    "# these are the conjugacy classes containing a and b such that ab is an n-cycle.\n",
    "conj_class_pairs = set()\n",
    "k = len(Sn.conjugacy_classes())\n",
    "\n",
    "# if ab is an n-cycle, then ab^-1= c is too. so abc = id.\n",
    "# we're looking for (a,b) s.t. abc = id for some c an n-cycle.\n",
    "for i in range(0,len(conjugacy_classes)):\n",
    "    for j in range(i, len(conjugacy_classes)):\n",
    "        if frob(n, [i,j,k-1]) != 0:\n",
    "            conj_class_pairs.add((i,j))\n",
    "\n",
    "print(len(conj_class_pairs))\n",
    "# TODO: these numbers seem very small, and dividing by |G| doesn't make sense"
   ]
  },
  {
   "cell_type": "code",
   "execution_count": 5,
   "id": "9580a2a4",
   "metadata": {},
   "outputs": [
    {
     "name": "stdout",
     "output_type": "stream",
     "text": [
      "277\n",
      "{(5, 10, 10, 13), (6, 6, 7, 11), (3, 3, 5, 13), (5, 8, 13, 13), (4, 6, 9, 9), (3, 5, 5, 12), (6, 7, 7, 11), (6, 11, 11, 11), (3, 3, 10, 12), (5, 5, 13, 13), (10, 12, 13, 13), (3, 5, 13, 13), (5, 10, 12, 13), (8, 12, 13, 13), (11, 11, 14, 14), (10, 10, 13, 13), (6, 9, 9, 11), (4, 7, 14, 14), (1, 10, 10, 10), (12, 12, 12, 13), (5, 8, 10, 13), (3, 3, 12, 12), (8, 10, 12, 13), (3, 13, 13, 13), (9, 9, 14, 14), (3, 5, 5, 5), (4, 6, 7, 14), (4, 6, 9, 11), (3, 8, 12, 13), (3, 3, 8, 8), (3, 5, 8, 10), (6, 6, 11, 14), (2, 9, 11, 14), (4, 6, 11, 11), (5, 5, 10, 10), (1, 10, 10, 12), (11, 11, 11, 11), (5, 12, 12, 12), (4, 6, 7, 7), (4, 7, 11, 11), (6, 11, 14, 14), (8, 8, 8, 10), (2, 6, 14, 14), (3, 3, 8, 10), (3, 5, 8, 12), (1, 10, 12, 12), (8, 13, 13, 13), (5, 5, 5, 13), (9, 9, 11, 11), (6, 6, 6, 14), (3, 5, 12, 12), (8, 8, 12, 13), (8, 12, 12, 12), (5, 5, 10, 12), (2, 6, 11, 14), (8, 8, 10, 10), (6, 9, 14, 14), (4, 6, 7, 9), (4, 11, 11, 14), (3, 10, 10, 13), (3, 3, 8, 12), (2, 7, 11, 14), (5, 5, 12, 12), (6, 7, 9, 14), (1, 10, 13, 13), (10, 12, 12, 12), (6, 6, 6, 7), (4, 6, 14, 14), (1, 13, 13, 13), (3, 8, 8, 13), (7, 11, 11, 11), (5, 5, 8, 8), (7, 14, 14, 14), (6, 6, 7, 14), (4, 6, 7, 11), (3, 8, 10, 13), (2, 6, 6, 14), (3, 5, 10, 13), (5, 5, 5, 8), (6, 9, 11, 11), (6, 6, 6, 9), (9, 11, 11, 14), (10, 10, 10, 13), (8, 10, 10, 13), (3, 3, 13, 13), (5, 8, 12, 13), (6, 6, 9, 14), (5, 5, 8, 10), (6, 6, 11, 11), (3, 10, 13, 13), (12, 12, 12, 12), (1, 12, 12, 13), (8, 8, 8, 13), (6, 6, 7, 7), (10, 10, 12, 13), (3, 3, 5, 8), (3, 5, 5, 13), (3, 8, 12, 12), (2, 9, 9, 14), (2, 6, 6, 7), (2, 6, 7, 14), (3, 3, 10, 13), (14, 14, 14, 14), (9, 14, 14, 14), (6, 6, 6, 11), (8, 8, 10, 13), (3, 8, 8, 8), (2, 7, 7, 14), (4, 6, 6, 14), (5, 5, 8, 12), (6, 6, 7, 9), (5, 10, 10, 10), (4, 11, 11, 11), (3, 10, 10, 10), (3, 3, 5, 10), (3, 3, 3, 13), (2, 7, 9, 14), (2, 7, 11, 11), (3, 12, 12, 13), (7, 9, 11, 14), (2, 6, 7, 7), (2, 6, 6, 9), (1, 12, 13, 13), (2, 7, 7, 7), (3, 8, 8, 10), (4, 6, 6, 7), (4, 9, 9, 14), (7, 9, 9, 14), (8, 8, 12, 12), (6, 6, 9, 9), (3, 10, 12, 12), (8, 8, 8, 8), (7, 7, 7, 14), (5, 8, 8, 13), (5, 12, 12, 13), (5, 8, 10, 10), (2, 9, 14, 14), (3, 8, 10, 10), (5, 10, 10, 12), (4, 9, 11, 14), (3, 10, 10, 12), (12, 13, 13, 13), (6, 7, 11, 14), (2, 6, 6, 11), (7, 7, 11, 14), (3, 5, 8, 13), (6, 7, 7, 7), (3, 3, 5, 12), (6, 14, 14, 14), (6, 6, 6, 6), (9, 11, 11, 11), (10, 10, 10, 10), (8, 10, 10, 10), (7, 7, 9, 14), (4, 7, 9, 14), (3, 5, 12, 13), (4, 6, 6, 9), (8, 12, 12, 13), (5, 10, 12, 12), (3, 8, 8, 12), (6, 6, 9, 11), (2, 7, 7, 9), (3, 5, 5, 8), (5, 5, 10, 13), (2, 9, 11, 11), (11, 11, 11, 14), (4, 11, 14, 14), (9, 9, 9, 14), (4, 7, 7, 7), (2, 7, 14, 14), (7, 7, 7, 7), (5, 8, 10, 12), (3, 3, 3, 8), (4, 7, 11, 14), (3, 8, 10, 12), (5, 10, 13, 13), (2, 9, 9, 11), (3, 3, 5, 5), (2, 7, 9, 9), (8, 10, 12, 12), (2, 11, 11, 14), (5, 5, 12, 13), (5, 13, 13, 13), (10, 12, 12, 13), (7, 9, 14, 14), (13, 13, 13, 13), (10, 10, 10, 12), (12, 12, 13, 13), (9, 9, 11, 14), (4, 9, 9, 9), (8, 10, 10, 12), (2, 7, 7, 11), (5, 8, 12, 12), (4, 6, 6, 11), (5, 5, 5, 10), (6, 7, 14, 14), (6, 7, 9, 9), (7, 9, 9, 9), (11, 14, 14, 14), (1, 12, 12, 12), (3, 8, 13, 13), (4, 7, 7, 9), (8, 8, 8, 12), (7, 7, 7, 9), (10, 10, 12, 12), (5, 8, 8, 8), (2, 6, 9, 14), (3, 3, 12, 13), (3, 3, 3, 10), (2, 7, 9, 11), (2, 6, 11, 11), (2, 6, 6, 6), (3, 5, 8, 8), (9, 11, 14, 14), (7, 9, 11, 11), (8, 10, 13, 13), (7, 7, 14, 14), (7, 7, 9, 9), (4, 7, 9, 9), (8, 8, 10, 12), (6, 7, 9, 11), (4, 9, 9, 11), (7, 9, 9, 11), (6, 11, 11, 14), (6, 7, 7, 14), (7, 11, 11, 14), (5, 5, 5, 12), (2, 9, 9, 9), (4, 7, 7, 14), (10, 13, 13, 13), (9, 9, 9, 9), (6, 9, 9, 14), (7, 7, 7, 11), (5, 8, 8, 10), (4, 7, 7, 11), (6, 6, 14, 14), (3, 3, 3, 3), (6, 7, 11, 11), (1, 10, 10, 13), (4, 9, 11, 11), (3, 3, 3, 12), (7, 7, 11, 11), (2, 14, 14, 14), (3, 12, 12, 12), (8, 8, 13, 13), (2, 11, 14, 14), (4, 6, 9, 14), (6, 9, 11, 14), (7, 7, 9, 11), (4, 7, 9, 11), (1, 10, 12, 13), (4, 6, 6, 6), (3, 5, 10, 10), (2, 6, 7, 9), (5, 5, 5, 5), (5, 5, 8, 13), (0, 14, 14, 14), (9, 9, 9, 11), (4, 6, 11, 14), (5, 8, 8, 12), (3, 3, 3, 5), (2, 6, 9, 9), (5, 12, 13, 13), (2, 11, 11, 11), (3, 12, 13, 13), (3, 5, 5, 10), (6, 7, 7, 9), (3, 3, 8, 13), (3, 3, 10, 10), (2, 6, 7, 11), (3, 5, 10, 12), (4, 14, 14, 14), (7, 11, 14, 14), (6, 9, 9, 9), (3, 10, 12, 13), (4, 9, 14, 14), (2, 6, 9, 11)}\n"
     ]
    }
   ],
   "source": [
    "quads = set()\n",
    "\n",
    "for (a,b) in conj_class_pairs:\n",
    "    for i in range(len(conjugacy_classes)):\n",
    "        if tuple(sorted([a,i])) in conj_class_pairs and tuple(sorted([b,i])) in conj_class_pairs:\n",
    "            for j in range(len(conjugacy_classes)):\n",
    "                if tuple(sorted([a,j])) in conj_class_pairs and tuple(sorted([b,j])) in conj_class_pairs and tuple(sorted([i,j])) in conj_class_pairs:\n",
    "                    quads.add(tuple(sorted([a,b,i,j])))\n",
    "\n",
    "print(len(quads))   \n",
    "print(quads)         \n"
   ]
  },
  {
   "cell_type": "code",
   "execution_count": 8,
   "id": "7dc0ac15",
   "metadata": {},
   "outputs": [
    {
     "name": "stdout",
     "output_type": "stream",
     "text": [
      "102\n",
      "256\n"
     ]
    }
   ],
   "source": [
    "for (i,q) in enumerate(quads):\n",
    "    if q == (0,14,14,14):\n",
    "        print(i)\n",
    "    elif q == (14, 14, 14, 14):\n",
    "        print(i)"
   ]
  },
  {
   "cell_type": "code",
   "execution_count": null,
   "id": "cb4f7f42",
   "metadata": {},
   "outputs": [
    {
     "name": "stdout",
     "output_type": "stream",
     "text": [
      "277\n",
      "211680\n"
     ]
    }
   ],
   "source": [
    "# quads[0] takes 2m 27s \n",
    "# quads[2] takes 20s\n",
    "# computed: 0-10 102\n",
    "\n",
    "candidate_tuples = []\n",
    "\n",
    "for (c1, c2, c3, c4) in [list(quads)[2]]:\n",
    "    for a in conjugacy_classes[c1]:\n",
    "        for b in conjugacy_classes[c2]:\n",
    "            if (a*b).cycle_type() == [n]:\n",
    "                for c in conjugacy_classes[c3]:\n",
    "                    if (a*c).cycle_type() == [n] and (b*c).cycle_type() == [n]:\n",
    "                        d = c.inverse()*b.inverse()*a.inverse()\n",
    "                        pts = [a,b,c,d]\n",
    "                        candidate_tuples.append(pts) \n",
    "print(len(candidate_tuples))  "
   ]
  },
  {
   "cell_type": "code",
   "execution_count": null,
   "id": "63056bc2",
   "metadata": {},
   "outputs": [
    {
     "name": "stdout",
     "output_type": "stream",
     "text": [
      "4284000\n",
      "0\n"
     ]
    }
   ],
   "source": [
    "candidate_tuples = []\n",
    "\n",
    "for (c1, c2, c3, c4) in list(quads)[10:14]:\n",
    "    for a in conjugacy_classes[c1]:\n",
    "        for b in conjugacy_classes[c2]:\n",
    "            if (a*b).cycle_type() == [n]:\n",
    "                for c in conjugacy_classes[c3]:\n",
    "                    if (a*c).cycle_type() == [n] and (b*c).cycle_type() == [n]:\n",
    "                        d = c.inverse()*b.inverse()*a.inverse()\n",
    "                        pts = [a,b,c,d]\n",
    "                        candidate_tuples.append(pts) \n",
    "print(len(candidate_tuples))  \n",
    "\n",
    "from sage.combinat import constellation\n",
    "\n",
    "orbit_reps = set()\n",
    "orbit_computed = set()\n",
    "reps_computed = 0 # for tracking computation progress\n",
    "computed = 0\n",
    "checkpoint = 0\n",
    "\n",
    "for pts in candidate_tuples:\n",
    "    p = PTS(n, Constellation(pts))\n",
    "    if p in orbit_computed:\n",
    "        computed +=1\n",
    "        continue \n",
    "    else:\n",
    "        # print('found a new orbit rep, computing orbit')\n",
    "        is_one_cylinder = p.braid_group_orbit_and_one_cyl_check()\n",
    "        if is_one_cylinder:\n",
    "            for o in p.orbit:\n",
    "                orbit_computed.add(o)\n",
    "                computed += 1\n",
    "        \n",
    "            orbit_reps.add(p)\n",
    "            reps_computed += 1\n",
    "        else:\n",
    "            orbit_computed.add(p)\n",
    "            computed += 1\n",
    "\n",
    "        # print(f'orbit reps found: {reps_computed}')\n",
    "    \n",
    "    if len(orbit_computed) >= 10000000:\n",
    "        break\n",
    "\n",
    "print(len(orbit_reps))\n",
    "    "
   ]
  },
  {
   "cell_type": "code",
   "execution_count": 13,
   "id": "10ea42f6",
   "metadata": {},
   "outputs": [
    {
     "name": "stdout",
     "output_type": "stream",
     "text": [
      "876960\n",
      "0\n",
      "0\n"
     ]
    }
   ],
   "source": [
    "print(len(orbit_computed))\n",
    "print(len(orbit_reps))\n",
    "one_cyl_orbit_reps = set()\n",
    "\n",
    "for pts in orbit_reps:\n",
    "    if pts.is_one_cyl_surface():\n",
    "        one_cyl_orbit_reps.add(pts)\n",
    "\n",
    "print(len(one_cyl_orbit_reps))"
   ]
  },
  {
   "cell_type": "code",
   "execution_count": 11,
   "id": "adc7fd78",
   "metadata": {},
   "outputs": [
    {
     "name": "stdout",
     "output_type": "stream",
     "text": [
      "Number of cycle types: 2\n",
      "1032 orbit reps of type ([1, 1, 1, 1, 1, 1, 1], [7], [7], [7])\n",
      "1440 orbit reps of type ([7], [7], [7], [7])\n"
     ]
    }
   ],
   "source": [
    "one_cyl_orbit_reps_cycle_types = {}\n",
    "for pts in one_cyl_orbit_reps:\n",
    "    key = tuple(sorted(pts.constellation.profile()))\n",
    "    if not one_cyl_orbit_reps_cycle_types.get(key)==None:\n",
    "        one_cyl_orbit_reps_cycle_types.get(key).append(pts)\n",
    "    else:\n",
    "        one_cyl_orbit_reps_cycle_types.update({key: [pts]})\n",
    "print(f'Number of cycle types: {len(one_cyl_orbit_reps_cycle_types.keys())}')\n",
    "for key in one_cyl_orbit_reps_cycle_types.keys():\n",
    "    print(f'{len(one_cyl_orbit_reps_cycle_types.get(key))} orbit reps of type {key}')"
   ]
  }
 ],
 "metadata": {
  "kernelspec": {
   "display_name": "SageMath 10.2",
   "language": "sage",
   "name": "SageMath-10.2"
  },
  "language_info": {
   "codemirror_mode": {
    "name": "ipython",
    "version": 3
   },
   "file_extension": ".py",
   "mimetype": "text/x-python",
   "name": "python",
   "nbconvert_exporter": "python",
   "pygments_lexer": "ipython3",
   "version": "3.11.1"
  }
 },
 "nbformat": 4,
 "nbformat_minor": 5
}
